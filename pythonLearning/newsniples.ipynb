{
 "cells": [
  {
   "cell_type": "code",
   "execution_count": 6,
   "metadata": {},
   "outputs": [
    {
     "name": "stdout",
     "output_type": "stream",
     "text": [
      "dir command to list file and directory \n",
      " Volume in drive C has no label.\n",
      " Volume Serial Number is BE2C-532C\n",
      "\n",
      " Directory of c:\\Users\\Aswin\\OneDrive\\Documents\\Learning\\pythonLearning\n",
      "\n",
      "22-08-2024  15:38    <DIR>          .\n",
      "22-08-2024  21:15    <DIR>          ..\n",
      "12-08-2024  15:33    <DIR>          CyberSecurityLab\n",
      "22-08-2024  15:13                96 fileExist.py\n",
      "22-08-2024  23:13             1,721 newsniples.ipynb\n",
      "22-08-2024  23:05                 0 newsniples.py\n",
      "22-08-2024  22:48            15,079 pandasLearn.ipynb\n",
      "22-08-2024  21:05            12,627 sniplets.ipynb\n",
      "               5 File(s)         29,523 bytes\n",
      "               3 Dir(s)  41,953,452,032 bytes free\n",
      "\n"
     ]
    }
   ],
   "source": [
    "import subprocess\n",
    "\n",
    "returned_text = subprocess.check_output('dir',shell=True, universal_newlines=True)\n",
    "print('dir command to list file and directory ')\n",
    "print(returned_text)"
   ]
  },
  {
   "cell_type": "code",
   "execution_count": 1,
   "metadata": {},
   "outputs": [
    {
     "name": "stdout",
     "output_type": "stream",
     "text": [
      "dir command to list file and directory \n",
      " Volume in drive C has no label.\n",
      " Volume Serial Number is BE2C-532C\n",
      "\n",
      " Directory of c:\\Users\\Aswin\\OneDrive\\Documents\\Learning\\pythonLearning\n",
      "\n",
      "22-08-2024  15:38    <DIR>          .\n",
      "22-08-2024  21:15    <DIR>          ..\n",
      "12-08-2024  15:33    <DIR>          CyberSecurityLab\n",
      "22-08-2024  15:13                96 fileExist.py\n",
      "22-08-2024  23:28             3,116 newsniples.ipynb\n",
      "22-08-2024  23:05                 0 newsniples.py\n",
      "23-08-2024  18:22            15,416 pandasLearn.ipynb\n",
      "22-08-2024  21:05            12,627 sniplets.ipynb\n",
      "               5 File(s)         31,255 bytes\n",
      "               3 Dir(s)  40,622,178,304 bytes free\n",
      "\n"
     ]
    }
   ],
   "source": [
    "import subprocess\n",
    "\n",
    "returned_text = subprocess.check_output(['cmd','/c','dir'], universal_newlines=True)\n",
    "print('dir command to list file and directory ')\n",
    "print(returned_text)"
   ]
  },
  {
   "cell_type": "code",
   "execution_count": null,
   "metadata": {},
   "outputs": [],
   "source": []
  }
 ],
 "metadata": {
  "kernelspec": {
   "display_name": "Python 3",
   "language": "python",
   "name": "python3"
  },
  "language_info": {
   "codemirror_mode": {
    "name": "ipython",
    "version": 3
   },
   "file_extension": ".py",
   "mimetype": "text/x-python",
   "name": "python",
   "nbconvert_exporter": "python",
   "pygments_lexer": "ipython3",
   "version": "3.11.9"
  }
 },
 "nbformat": 4,
 "nbformat_minor": 2
}
